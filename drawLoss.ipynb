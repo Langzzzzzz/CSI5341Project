{
 "cells": [
  {
   "cell_type": "code",
   "execution_count": null,
   "metadata": {},
   "outputs": [],
   "source": [
    "import json\n",
    "import os\n",
    "import sys\n",
    "import time\n",
    "import matplotlib.pyplot as plt"
   ]
  },
  {
   "cell_type": "code",
   "execution_count": null,
   "metadata": {},
   "outputs": [],
   "source": [
    "# read the JSON file\n",
    "def read_json(filename):\n",
    "    l = []\n",
    "    with open(filename, 'r') as f:\n",
    "        for line in f:\n",
    "            data = json.loads(line)\n",
    "            total_loss = data.get(\"total_loss\", None)\n",
    "            if total_loss is not None:\n",
    "                l.append(total_loss)\n",
    "            else:\n",
    "                # copy the last value\n",
    "                l.append(l[-1])\n",
    "    return l\n",
    "\n",
    "singleData = read_json(\"./single/output/metrics.json\")\n",
    "transferData = read_json(\"./transfer/output/metrics.json\")\n",
    "\n",
    "# plot the data\n",
    "plt.plot(singleData, label=\"Single Dataset Detector\")\n",
    "plt.plot(transferData, label=\"Unified Detector\")\n",
    "plt.legend()\n",
    "plt.xlabel(\"Epoch\")\n",
    "plt.ylabel(\"Loss\")\n",
    "plt.title(\"Loss\")\n",
    "plt.show()\n"
   ]
  }
 ],
 "metadata": {
  "kernelspec": {
   "display_name": "Python 3",
   "language": "python",
   "name": "python3"
  },
  "language_info": {
   "name": "python",
   "version": "3.10.7"
  }
 },
 "nbformat": 4,
 "nbformat_minor": 2
}
